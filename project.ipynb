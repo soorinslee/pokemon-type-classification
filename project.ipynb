{
 "cells": [
  {
   "cell_type": "code",
   "execution_count": 502,
   "id": "fe922ae7",
   "metadata": {},
   "outputs": [],
   "source": [
    "from matplotlib import pyplot as plt\n",
    "import numpy as np\n",
    "\n",
    "import os\n",
    "import PIL\n",
    "\n",
    "import random\n",
    "\n",
    "from tqdm import tqdm\n",
    "\n",
    "import torch\n",
    "import torch.nn as nn\n",
    "import torch.optim as optim\n",
    "import torchvision.models as models"
   ]
  },
  {
   "cell_type": "code",
   "execution_count": 493,
   "id": "7fdceead",
   "metadata": {},
   "outputs": [],
   "source": [
    "def get_all_types():\n",
    "    with open('pokemon_data/pokemon_2.csv', 'r') as pokemon_list:\n",
    "        types = set()\n",
    "        \n",
    "        for line in pokemon_list:\n",
    "            types.update(set(line.strip().split(',')[1:]))\n",
    "            \n",
    "        types.difference_update(['', 'Type1', 'Type2'])\n",
    "        \n",
    "    return list(types)"
   ]
  },
  {
   "cell_type": "code",
   "execution_count": 494,
   "id": "359ffb58",
   "metadata": {},
   "outputs": [],
   "source": [
    "def get_all_data(_type_to_id, _num_types):\n",
    "    with open('pokemon_data/pokemon_2.csv','r') as pokemon_list:\n",
    "        output = []\n",
    "        for line in list(pokemon_list)[1:]: \n",
    "            csv_data = line.strip().split(',')\n",
    "            \n",
    "            y = torch.zeros(_num_types)\n",
    "            for types in csv_data[1:]:\n",
    "                if types != '':\n",
    "                    y[_type_to_id[types]] = 1\n",
    "                    \n",
    "            output.append((csv_data[0], y))\n",
    "            \n",
    "    return output[1:]"
   ]
  },
  {
   "cell_type": "code",
   "execution_count": 499,
   "id": "76e66da9",
   "metadata": {},
   "outputs": [],
   "source": [
    "img_size = 64\n",
    "batch_size = 100\n",
    "\n",
    "types = get_all_types()\n",
    "num_types = len(types)\n",
    "id_to_type = {i: val for i, val in enumerate(types)}\n",
    "type_to_id = {val: i for i, val in enumerate(types)}\n",
    "\n",
    "all_data = get_all_data(type_to_id, num_types)\n",
    "random.shuffle(all_data)\n",
    "image_list, type_list = list(zip(*all_data))\n",
    "\n",
    "image_batch, type_batch = [], []\n",
    "for i in range(0, len(image_list), batch_size):\n",
    "    image_batch.append(image_list[i:i+batch_size])\n",
    "    type_batch.append(type_list[i:i+batch_size])\n",
    "\n",
    "split1 = round(len(image_batch) * .6)\n",
    "split2 = split1 + round(len(image_batch) * .2)\n",
    "train_image, train_type = image_batch[:split1], type_batch[:split1]\n",
    "test_image, test_type = image_batch[split1:split2], type_batch[split1:split2]\n",
    "dev_image, dev_type = image_batch[split2:], type_batch[split2:]\n",
    "\n",
    "num_epochs = 5"
   ]
  },
  {
   "cell_type": "code",
   "execution_count": 486,
   "id": "605d3c23",
   "metadata": {},
   "outputs": [],
   "source": [
    "def get_image(image_names):\n",
    "    images = []\n",
    "    for image_name in image_names:\n",
    "        image = PIL.Image.open(os.path.join('pokemon_data/images_2', image_name+'.png'))\n",
    "        if len(image.size) == 2:\n",
    "            image = image.convert('RGBA')\n",
    "        images.append(torch.tensor(np.transpose(np.asarray(image.resize((120,120))) / 255.0, (2, 0, 1)))\n",
    "                      .float()[:3,:,:])\n",
    "    \n",
    "    return torch.stack(images)"
   ]
  },
  {
   "cell_type": "code",
   "execution_count": 289,
   "id": "0e76530a",
   "metadata": {},
   "outputs": [],
   "source": [
    "class PokemonModel(nn.Module):\n",
    "    def __init__(self):\n",
    "        super(PokemonModel, self).__init__()\n",
    "        self.main = nn.Sequential(\n",
    "            nn.Conv2d(3, 64, kernel_size=2),\n",
    "            nn.ReLU(),\n",
    "            nn.MaxPool2d(4),\n",
    "            nn.Conv2d(64, 128, kernel_size=2),\n",
    "            nn.ReLU(),\n",
    "            nn.MaxPool2d(4),\n",
    "            nn.Conv2d(128, 256, kernel_size=2),\n",
    "            nn.ReLU(),\n",
    "            nn.MaxPool2d(4)\n",
    "        )\n",
    "        self.lin = nn.Sequential(\n",
    "            nn.Linear(256, num_types),\n",
    "            nn.Softmax(dim=1)\n",
    "        )\n",
    "        \n",
    "    def forward(self, x):\n",
    "        cnn = self.main(x)\n",
    "        cnn_flat = torch.reshape(cnn, [-1, 256])\n",
    "        out = self.lin(cnn_flat)\n",
    "        \n",
    "        return out        "
   ]
  },
  {
   "cell_type": "code",
   "execution_count": 500,
   "id": "6a5ee371",
   "metadata": {},
   "outputs": [],
   "source": [
    "model = models.vgg16(pretrained=True)\n",
    "\n",
    "# Freeze all layers\n",
    "for p in model.parameters():\n",
    "    p.requires_grad = False\n",
    "\n",
    "# Define new classifier layer. This layer will not be frozen\n",
    "new_classifier = nn.Sequential(\n",
    "                    nn.Linear(25088, num_types, bias=True),\n",
    "                    nn.Sigmoid()\n",
    "                )\n",
    "\n",
    "model._modules['classifier'] = new_classifier"
   ]
  },
  {
   "cell_type": "code",
   "execution_count": 503,
   "id": "d0c3dca0",
   "metadata": {
    "scrolled": false
   },
   "outputs": [
    {
     "name": "stderr",
     "output_type": "stream",
     "text": [
      "47it [02:32,  3.24s/it]\n"
     ]
    },
    {
     "name": "stdout",
     "output_type": "stream",
     "text": [
      "Epoch: 1 Dev Loss: 55.56842803955078\n"
     ]
    },
    {
     "name": "stderr",
     "output_type": "stream",
     "text": [
      "47it [02:22,  3.03s/it]\n"
     ]
    },
    {
     "name": "stdout",
     "output_type": "stream",
     "text": [
      "Epoch: 2 Dev Loss: 54.62202835083008\n"
     ]
    },
    {
     "name": "stderr",
     "output_type": "stream",
     "text": [
      "47it [02:25,  3.09s/it]\n"
     ]
    },
    {
     "name": "stdout",
     "output_type": "stream",
     "text": [
      "Epoch: 3 Dev Loss: 54.08389663696289\n"
     ]
    },
    {
     "name": "stderr",
     "output_type": "stream",
     "text": [
      "47it [02:24,  3.07s/it]\n"
     ]
    },
    {
     "name": "stdout",
     "output_type": "stream",
     "text": [
      "Epoch: 4 Dev Loss: 53.74873352050781\n"
     ]
    },
    {
     "name": "stderr",
     "output_type": "stream",
     "text": [
      "47it [02:25,  3.10s/it]\n"
     ]
    },
    {
     "name": "stdout",
     "output_type": "stream",
     "text": [
      "Epoch: 5 Dev Loss: 53.498809814453125\n"
     ]
    }
   ],
   "source": [
    "# model = PokemonModel()\n",
    "criterion = nn.CrossEntropyLoss()\n",
    "optimizer = optim.Adam(model.parameters(), lr=1e-4)\n",
    "\n",
    "for epoch in range(num_epochs):\n",
    "    for x, y in tqdm(zip(train_image, train_type)):\n",
    "        img_x = get_image(x).reshape((-1, 3, 120, 120))\n",
    "        img_y = torch.stack(y)\n",
    "        model.zero_grad()\n",
    "        \n",
    "        output = model.forward(img_x)\n",
    "        loss = criterion(output, img_y)\n",
    "        loss.backward()\n",
    "        optimizer.step()\n",
    "        \n",
    "    with torch.no_grad():\n",
    "        loss = 0\n",
    "        for x, y in zip(dev_image, dev_type):\n",
    "            img_x = get_image(x).reshape((-1, 3, 120, 120))\n",
    "            img_y = torch.stack(y)\n",
    "            output = model.forward(img_x)\n",
    "            loss += criterion(output, img_y)\n",
    "            \n",
    "        print(\"Epoch:\", epoch+1, \"Dev Loss:\", loss.item())"
   ]
  },
  {
   "cell_type": "code",
   "execution_count": 468,
   "id": "a3d593c8",
   "metadata": {},
   "outputs": [],
   "source": [
    "class Discriminator(nn.Module):\n",
    "    def __init__(self):\n",
    "        super(Discriminator, self).__init__()\n",
    "        self.main = nn.Sequential(\n",
    "            nn.Conv2d(3, 120, 4, 2, 1, bias=False),\n",
    "            nn.LeakyReLU(0.2, inplace=True),\n",
    "            nn.Conv2d(120, 120 * 2, 4, 2, 1, bias=False),\n",
    "            nn.BatchNorm2d(120 * 2),\n",
    "            nn.LeakyReLU(0.2, inplace=True),\n",
    "            nn.Conv2d(120 * 2, 120 * 4, 4, 2, 1, bias=False),\n",
    "            nn.BatchNorm2d(120 * 4),\n",
    "            nn.LeakyReLU(0.2, inplace=True),\n",
    "            nn.Conv2d(120 * 4, 120 * 8, 4, 2, 1, bias=False),\n",
    "            nn.BatchNorm2d(120 * 8),\n",
    "            nn.LeakyReLU(0.2, inplace=True),\n",
    "            nn.Conv2d(120 * 8, 1, 4, 1, 0, bias=False)\n",
    "        )\n",
    "        self.linear = nn.Sequential(\n",
    "            nn.Linear(16, 1),\n",
    "            nn.Sigmoid()\n",
    "        )\n",
    "\n",
    "    def forward(self, input):\n",
    "        cnn = self.main(input)\n",
    "        return self.linear(torch.flatten(cnn)) "
   ]
  },
  {
   "cell_type": "code",
   "execution_count": 477,
   "id": "84758250",
   "metadata": {},
   "outputs": [],
   "source": [
    "class Generator(nn.Module):\n",
    "    def __init__(self):\n",
    "        super(Generator, self).__init__()\n",
    "        self.main = nn.Sequential(\n",
    "            # input is Z, going into a convolution\n",
    "            nn.ConvTranspose2d( 100, 120 * 8, 4, 1, 0, bias=False),\n",
    "            nn.BatchNorm2d(120 * 8),\n",
    "            nn.ReLU(True),\n",
    "            nn.ConvTranspose2d(120 * 8, 120 * 4, 4, 2, 1, bias=False),\n",
    "            nn.BatchNorm2d(120 * 4),\n",
    "            nn.ReLU(True),\n",
    "            nn.ConvTranspose2d( 120 * 4, 120 * 2, 4, 2, 1, bias=False),\n",
    "            nn.BatchNorm2d(120 * 2),\n",
    "            nn.ReLU(True),\n",
    "            nn.ConvTranspose2d( 120 * 2, 120, 4, 2, 1, bias=False),\n",
    "            nn.BatchNorm2d(120),\n",
    "            nn.ReLU(True),\n",
    "            nn.ConvTranspose2d( 120, 3, 4, 2, 1, bias=False),\n",
    "            nn.Tanh()\n",
    "        )\n",
    "\n",
    "    def forward(self, input):\n",
    "        return self.main(input)"
   ]
  },
  {
   "cell_type": "code",
   "execution_count": 469,
   "id": "13941b3e",
   "metadata": {},
   "outputs": [],
   "source": [
    "d = Discriminator()\n",
    "image = PIL.Image.open(os.path.join('pokemon_data/images', 'abra.png'))\n",
    "if len(image.size) == 2:\n",
    "    image = image.convert('RGBA')\n",
    "im = (torch.tensor(np.transpose(np.asarray(image.resize((120,120))) / 255.0, (2, 0, 1)))\n",
    "              .float()[:3,:,:])"
   ]
  },
  {
   "cell_type": "code",
   "execution_count": 474,
   "id": "dd21bde3",
   "metadata": {},
   "outputs": [],
   "source": [
    "g = Generator()\n",
    "\n",
    "noise = torch.randn(1, 100, 1, 1)\n",
    "fake = g(noise)"
   ]
  },
  {
   "cell_type": "code",
   "execution_count": 482,
   "id": "6ed575f7",
   "metadata": {},
   "outputs": [
    {
     "name": "stderr",
     "output_type": "stream",
     "text": [
      "Clipping input data to the valid range for imshow with RGB data ([0..1] for floats or [0..255] for integers).\n"
     ]
    },
    {
     "data": {
      "text/plain": [
       "<matplotlib.image.AxesImage at 0x157a378e0>"
      ]
     },
     "execution_count": 482,
     "metadata": {},
     "output_type": "execute_result"
    },
    {
     "data": {
      "image/png": "[encoded data removed]",
      "text/plain": [
       "<Figure size 432x288 with 1 Axes>"
      ]
     },
     "metadata": {
      "needs_background": "light"
     },
     "output_type": "display_data"
    }
   ],
   "source": [
    "plt.imshow(fake.detach().squeeze().permute((1, 2, 0)))"
   ]
  },
  {
   "cell_type": "code",
   "execution_count": 509,
   "id": "982e539b",
   "metadata": {},
   "outputs": [
    {
     "name": "stderr",
     "output_type": "stream",
     "text": [
      "1600it [00:54, 29.21it/s]"
     ]
    },
    {
     "name": "stdout",
     "output_type": "stream",
     "text": [
      "Accuracy 0.556875\n"
     ]
    },
    {
     "name": "stderr",
     "output_type": "stream",
     "text": [
      "\n"
     ]
    }
   ],
   "source": [
    "# Test data\n",
    "\n",
    "correct_ct = 0\n",
    "test_image_flat = [i for batch in test_image for i in batch]\n",
    "test_type_flat = [i for batch in test_type for i in batch]\n",
    "for x, y in tqdm(zip(test_image_flat, test_type_flat)):\n",
    "    with torch.no_grad():\n",
    "        img_x = get_image([x]).reshape((-1, 3, 120, 120))\n",
    "        img_y = y\n",
    "        \n",
    "        output = model.forward(img_x)            \n",
    "        v, i = output.topk(2)\n",
    "        type1 = i.squeeze()[0].item()\n",
    "        type2 = i.squeeze()[1].item() if v.squeeze()[1] > 0.8 else None\n",
    "        \n",
    "        if y[type1] == 1:\n",
    "#             if (type2 and y[type2] == 1) or not type2:\n",
    "            correct_ct += 1\n",
    "#                 print(x, id_to_type[type1], id_to_type[type2] if type2 else None)\n",
    "            \n",
    "print(\"Accuracy\", correct_ct/len(test_image_flat))"
   ]
  },
  {
   "cell_type": "code",
   "execution_count": null,
   "id": "56274589",
   "metadata": {},
   "outputs": [],
   "source": []
  }
 ],
 "metadata": {
  "kernelspec": {
   "display_name": "Python 3 (ipykernel)",
   "language": "python",
   "name": "python3"
  },
  "language_info": {
   "codemirror_mode": {
    "name": "ipython",
    "version": 3
   },
   "file_extension": ".py",
   "mimetype": "text/x-python",
   "name": "python",
   "nbconvert_exporter": "python",
   "pygments_lexer": "ipython3",
   "version": "3.9.7"
  }
 },
 "nbformat": 4,
 "nbformat_minor": 5
}
